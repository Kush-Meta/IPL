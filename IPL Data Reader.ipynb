{
 "cells": [
  {
   "cell_type": "markdown",
   "id": "4fc5044e-9de1-4d28-b8c5-0b91692bc584",
   "metadata": {},
   "source": [
    "# IPL Data Analysis\n",
    "## Author: Kush Mehta"
   ]
  },
  {
   "cell_type": "code",
   "execution_count": 8,
   "id": "fda470b7-9f26-4f0a-8e44-9ce819498914",
   "metadata": {},
   "outputs": [],
   "source": [
    "import pandas as pd\n",
    "import numpy as np"
   ]
  },
  {
   "cell_type": "code",
   "execution_count": 10,
   "id": "fb577252-8e90-4024-ab72-b9679a2d3f83",
   "metadata": {},
   "outputs": [],
   "source": [
    "deliveries = pd.read_csv('/Users/kush/Desktop/archive/deliveries.csv')\n",
    "matches = pd.read_csv('/Users/kush/Desktop/archive/matches.csv')"
   ]
  },
  {
   "cell_type": "markdown",
   "id": "d738cd7f-f8a1-457c-ab88-4e3bd651b0df",
   "metadata": {},
   "source": [
    "## Checking the health of the Data"
   ]
  },
  {
   "cell_type": "code",
   "execution_count": 12,
   "id": "b79819fb-bdcc-4065-8a95-1c4defcad2f8",
   "metadata": {},
   "outputs": [
    {
     "name": "stdout",
     "output_type": "stream",
     "text": [
      "   match_id  inning           batting_team                 bowling_team  over  \\\n",
      "0    335982       1  Kolkata Knight Riders  Royal Challengers Bangalore     0   \n",
      "1    335982       1  Kolkata Knight Riders  Royal Challengers Bangalore     0   \n",
      "2    335982       1  Kolkata Knight Riders  Royal Challengers Bangalore     0   \n",
      "3    335982       1  Kolkata Knight Riders  Royal Challengers Bangalore     0   \n",
      "4    335982       1  Kolkata Knight Riders  Royal Challengers Bangalore     0   \n",
      "\n",
      "   ball       batter   bowler  non_striker  batsman_runs  extra_runs  \\\n",
      "0     1   SC Ganguly  P Kumar  BB McCullum             0           1   \n",
      "1     2  BB McCullum  P Kumar   SC Ganguly             0           0   \n",
      "2     3  BB McCullum  P Kumar   SC Ganguly             0           1   \n",
      "3     4  BB McCullum  P Kumar   SC Ganguly             0           0   \n",
      "4     5  BB McCullum  P Kumar   SC Ganguly             0           0   \n",
      "\n",
      "   total_runs extras_type  is_wicket player_dismissed dismissal_kind fielder  \n",
      "0           1     legbyes          0              NaN            NaN     NaN  \n",
      "1           0         NaN          0              NaN            NaN     NaN  \n",
      "2           1       wides          0              NaN            NaN     NaN  \n",
      "3           0         NaN          0              NaN            NaN     NaN  \n",
      "4           0         NaN          0              NaN            NaN     NaN  \n",
      "<class 'pandas.core.frame.DataFrame'>\n",
      "RangeIndex: 260920 entries, 0 to 260919\n",
      "Data columns (total 17 columns):\n",
      " #   Column            Non-Null Count   Dtype \n",
      "---  ------            --------------   ----- \n",
      " 0   match_id          260920 non-null  int64 \n",
      " 1   inning            260920 non-null  int64 \n",
      " 2   batting_team      260920 non-null  object\n",
      " 3   bowling_team      260920 non-null  object\n",
      " 4   over              260920 non-null  int64 \n",
      " 5   ball              260920 non-null  int64 \n",
      " 6   batter            260920 non-null  object\n",
      " 7   bowler            260920 non-null  object\n",
      " 8   non_striker       260920 non-null  object\n",
      " 9   batsman_runs      260920 non-null  int64 \n",
      " 10  extra_runs        260920 non-null  int64 \n",
      " 11  total_runs        260920 non-null  int64 \n",
      " 12  extras_type       14125 non-null   object\n",
      " 13  is_wicket         260920 non-null  int64 \n",
      " 14  player_dismissed  12950 non-null   object\n",
      " 15  dismissal_kind    12950 non-null   object\n",
      " 16  fielder           9354 non-null    object\n",
      "dtypes: int64(8), object(9)\n",
      "memory usage: 33.8+ MB\n",
      "None\n",
      "           match_id         inning           over           ball  \\\n",
      "count  2.609200e+05  260920.000000  260920.000000  260920.000000   \n",
      "mean   9.070665e+05       1.483531       9.197677       3.624486   \n",
      "std    3.679913e+05       0.502643       5.683484       1.814920   \n",
      "min    3.359820e+05       1.000000       0.000000       1.000000   \n",
      "25%    5.483340e+05       1.000000       4.000000       2.000000   \n",
      "50%    9.809670e+05       1.000000       9.000000       4.000000   \n",
      "75%    1.254066e+06       2.000000      14.000000       5.000000   \n",
      "max    1.426312e+06       6.000000      19.000000      11.000000   \n",
      "\n",
      "        batsman_runs     extra_runs     total_runs      is_wicket  \n",
      "count  260920.000000  260920.000000  260920.000000  260920.000000  \n",
      "mean        1.265001       0.067806       1.332807       0.049632  \n",
      "std         1.639298       0.343265       1.626416       0.217184  \n",
      "min         0.000000       0.000000       0.000000       0.000000  \n",
      "25%         0.000000       0.000000       0.000000       0.000000  \n",
      "50%         1.000000       0.000000       1.000000       0.000000  \n",
      "75%         1.000000       0.000000       1.000000       0.000000  \n",
      "max         6.000000       7.000000       7.000000       1.000000  \n"
     ]
    }
   ],
   "source": [
    "print(deliveries.head())\n",
    "print(deliveries.info())\n",
    "print(deliveries.describe())"
   ]
  },
  {
   "cell_type": "code",
   "execution_count": 14,
   "id": "ef16ea02-5f53-451d-9cf7-2871d285920e",
   "metadata": {},
   "outputs": [
    {
     "name": "stdout",
     "output_type": "stream",
     "text": [
      "       id   season        city        date match_type player_of_match  \\\n",
      "0  335982  2007/08   Bangalore  2008-04-18     League     BB McCullum   \n",
      "1  335983  2007/08  Chandigarh  2008-04-19     League      MEK Hussey   \n",
      "2  335984  2007/08       Delhi  2008-04-19     League     MF Maharoof   \n",
      "3  335985  2007/08      Mumbai  2008-04-20     League      MV Boucher   \n",
      "4  335986  2007/08     Kolkata  2008-04-20     League       DJ Hussey   \n",
      "\n",
      "                                        venue                        team1  \\\n",
      "0                       M Chinnaswamy Stadium  Royal Challengers Bangalore   \n",
      "1  Punjab Cricket Association Stadium, Mohali              Kings XI Punjab   \n",
      "2                            Feroz Shah Kotla             Delhi Daredevils   \n",
      "3                            Wankhede Stadium               Mumbai Indians   \n",
      "4                                Eden Gardens        Kolkata Knight Riders   \n",
      "\n",
      "                         team2                  toss_winner toss_decision  \\\n",
      "0        Kolkata Knight Riders  Royal Challengers Bangalore         field   \n",
      "1          Chennai Super Kings          Chennai Super Kings           bat   \n",
      "2             Rajasthan Royals             Rajasthan Royals           bat   \n",
      "3  Royal Challengers Bangalore               Mumbai Indians           bat   \n",
      "4              Deccan Chargers              Deccan Chargers           bat   \n",
      "\n",
      "                        winner   result  result_margin  target_runs  \\\n",
      "0        Kolkata Knight Riders     runs          140.0        223.0   \n",
      "1          Chennai Super Kings     runs           33.0        241.0   \n",
      "2             Delhi Daredevils  wickets            9.0        130.0   \n",
      "3  Royal Challengers Bangalore  wickets            5.0        166.0   \n",
      "4        Kolkata Knight Riders  wickets            5.0        111.0   \n",
      "\n",
      "   target_overs super_over method    umpire1         umpire2  \n",
      "0          20.0          N    NaN  Asad Rauf     RE Koertzen  \n",
      "1          20.0          N    NaN  MR Benson      SL Shastri  \n",
      "2          20.0          N    NaN  Aleem Dar  GA Pratapkumar  \n",
      "3          20.0          N    NaN   SJ Davis       DJ Harper  \n",
      "4          20.0          N    NaN  BF Bowden     K Hariharan  \n",
      "<class 'pandas.core.frame.DataFrame'>\n",
      "RangeIndex: 1095 entries, 0 to 1094\n",
      "Data columns (total 20 columns):\n",
      " #   Column           Non-Null Count  Dtype  \n",
      "---  ------           --------------  -----  \n",
      " 0   id               1095 non-null   int64  \n",
      " 1   season           1095 non-null   object \n",
      " 2   city             1044 non-null   object \n",
      " 3   date             1095 non-null   object \n",
      " 4   match_type       1095 non-null   object \n",
      " 5   player_of_match  1090 non-null   object \n",
      " 6   venue            1095 non-null   object \n",
      " 7   team1            1095 non-null   object \n",
      " 8   team2            1095 non-null   object \n",
      " 9   toss_winner      1095 non-null   object \n",
      " 10  toss_decision    1095 non-null   object \n",
      " 11  winner           1090 non-null   object \n",
      " 12  result           1095 non-null   object \n",
      " 13  result_margin    1076 non-null   float64\n",
      " 14  target_runs      1092 non-null   float64\n",
      " 15  target_overs     1092 non-null   float64\n",
      " 16  super_over       1095 non-null   object \n",
      " 17  method           21 non-null     object \n",
      " 18  umpire1          1095 non-null   object \n",
      " 19  umpire2          1095 non-null   object \n",
      "dtypes: float64(3), int64(1), object(16)\n",
      "memory usage: 171.2+ KB\n",
      "None\n",
      "                 id  result_margin  target_runs  target_overs\n",
      "count  1.095000e+03    1076.000000  1092.000000   1092.000000\n",
      "mean   9.048283e+05      17.259294   165.684066     19.759341\n",
      "std    3.677402e+05      21.787444    33.427048      1.581108\n",
      "min    3.359820e+05       1.000000    43.000000      5.000000\n",
      "25%    5.483315e+05       6.000000   146.000000     20.000000\n",
      "50%    9.809610e+05       8.000000   166.000000     20.000000\n",
      "75%    1.254062e+06      20.000000   187.000000     20.000000\n",
      "max    1.426312e+06     146.000000   288.000000     20.000000\n"
     ]
    }
   ],
   "source": [
    "print(matches.head())\n",
    "print(matches.info())\n",
    "print(matches.describe())"
   ]
  },
  {
   "cell_type": "markdown",
   "id": "1dd48dc2-4256-40a7-ac4c-782e63af8315",
   "metadata": {},
   "source": [
    "## Cleaning the Data"
   ]
  },
  {
   "cell_type": "code",
   "execution_count": 16,
   "id": "3776ae6d-481d-4c66-bd66-91b8ce4d5732",
   "metadata": {},
   "outputs": [],
   "source": [
    "import warnings\n",
    "warnings.filterwarnings('ignore')"
   ]
  },
  {
   "cell_type": "code",
   "execution_count": 22,
   "id": "36944783-db34-4f36-8994-a0c9c13695f4",
   "metadata": {},
   "outputs": [
    {
     "data": {
      "text/plain": [
       "0"
      ]
     },
     "execution_count": 22,
     "metadata": {},
     "output_type": "execute_result"
    }
   ],
   "source": [
    "# Check for duplicated values\n",
    "matches.duplicated().sum()\n",
    "deliveries.duplicated().sum()"
   ]
  },
  {
   "cell_type": "code",
   "execution_count": 35,
   "id": "7cd90392-34c4-4da6-a772-cac871df5396",
   "metadata": {},
   "outputs": [
    {
     "data": {
      "text/plain": [
       "array([], dtype=object)"
      ]
     },
     "execution_count": 35,
     "metadata": {},
     "output_type": "execute_result"
    }
   ],
   "source": [
    "# Checking the format for city so that I can discard values that are NaN\n",
    "matches[matches['city'].isna()]['venue'].unique()"
   ]
  },
  {
   "cell_type": "code",
   "execution_count": 28,
   "id": "16a3c319-24f0-469c-942e-49fbbe275b92",
   "metadata": {},
   "outputs": [
    {
     "data": {
      "text/plain": [
       "0"
      ]
     },
     "execution_count": 28,
     "metadata": {},
     "output_type": "execute_result"
    }
   ],
   "source": [
    "# Filling missing city values based on venue\n",
    "matches.loc[(matches['city'].isna()) & (matches['venue'] == 'Sharjah Cricket Stadium'), 'city'] = 'Sharjah'\n",
    "matches.loc[(matches['city'].isna()) & (matches['venue'] == 'Dubai International Cricket Stadium'), 'city'] = 'Dubai'\n",
    "matches['city'].isnull().sum()"
   ]
  },
  {
   "cell_type": "code",
   "execution_count": 33,
   "id": "5cecf6f3-8725-45f7-aa7b-79c017522bfd",
   "metadata": {},
   "outputs": [],
   "source": [
    "# Correcting the format for the matches\n",
    "matches.replace({'season': {\"2020/21\": \"2020\", \"2009/10\": \"2010\", \"2007/08\": \"2008\"}}, inplace=True)"
   ]
  },
  {
   "cell_type": "code",
   "execution_count": 37,
   "id": "3ebdb941-82c5-421c-bb2d-96b225a43b91",
   "metadata": {},
   "outputs": [],
   "source": [
    "# Correcting Team Names in the Data (i.e. for teams that have had their names changed)\n",
    "\n",
    "team_map ={\"Mumbai Indians\":\"Mumbai Indians\",\n",
    "          \"Chennai Super Kings\":\"Chennai Super Kings\",\n",
    "          \"Kolkata Knight Riders\":\"Kolkata Knight Riders\",\n",
    "          \"Royal Challengers Bangalore\":\"Royal Challengers Bangalore\",\n",
    "          \"Royal Challengers Bengaluru\":\"Royal Challengers Bangalore\",\n",
    "          \"Rajasthan Royals\":\"Rajasthan Royals\",\n",
    "          \"Kings XI Punjab\":\"Kings XI Punjab\",\n",
    "          \"Punjab Kings\":\"Kings XI Punjab\",\n",
    "          \"Sunrisers Hyderabad\":\"Sunrisers Hyderabad\",\n",
    "          \"Deccan Chargers\":\"Sunrisers Hyderabad\",\n",
    "          \"Delhi Capitals\":\"Delhi Capitals\",\n",
    "          \"Delhi Daredevils\":\"Delhi Capitals\",\n",
    "          \"Gujarat Titans\":\"Gujarat Titans\",\n",
    "          \"Gujarat Lions\":\"Gujarat Titans\",\n",
    "          \"Lucknow Super Giants\":\"Lucknow Super Giants\",\n",
    "          \"Pune Warriors\":\"Pune Warriors\",\n",
    "          \"Rising Pune Supergiant\":\"Pune Warriors\",\n",
    "          \"Rising Pune Supergiants\":\"Pune Warriors\",\n",
    "          \"Kochi Tuskers Kerala\":\"Kochi Tuskers Kerala\"}\n",
    "\n",
    "#For Matches \n",
    "matches['team1']= matches['team1'].map(team_map)\n",
    "matches['team2']= matches['team2'].map(team_map)\n",
    "matches['winner']= matches['winner'].map(team_map)\n",
    "matches['toss_winner']= matches['toss_winner'].map(team_map)\n",
    "\n",
    "#For Deliveries \n",
    "deliveries['batting_team']= deliveries['batting_team'].map(team_map)\n",
    "deliveries['bowling_team']= deliveries['bowling_team'].map(team_map)"
   ]
  },
  {
   "cell_type": "code",
   "execution_count": 39,
   "id": "433925a1-3da8-48d7-ae93-d1db91f2e6e8",
   "metadata": {},
   "outputs": [
    {
     "data": {
      "text/html": [
       "<div>\n",
       "<style scoped>\n",
       "    .dataframe tbody tr th:only-of-type {\n",
       "        vertical-align: middle;\n",
       "    }\n",
       "\n",
       "    .dataframe tbody tr th {\n",
       "        vertical-align: top;\n",
       "    }\n",
       "\n",
       "    .dataframe thead th {\n",
       "        text-align: right;\n",
       "    }\n",
       "</style>\n",
       "<table border=\"1\" class=\"dataframe\">\n",
       "  <thead>\n",
       "    <tr style=\"text-align: right;\">\n",
       "      <th>season</th>\n",
       "      <th>2013</th>\n",
       "      <th>2023</th>\n",
       "      <th>2012</th>\n",
       "      <th>2022</th>\n",
       "      <th>2011</th>\n",
       "      <th>2024</th>\n",
       "      <th>2018</th>\n",
       "      <th>2021</th>\n",
       "      <th>2020</th>\n",
       "      <th>2019</th>\n",
       "      <th>2016</th>\n",
       "      <th>2014</th>\n",
       "      <th>2010</th>\n",
       "      <th>2017</th>\n",
       "      <th>2015</th>\n",
       "      <th>2008</th>\n",
       "      <th>2009</th>\n",
       "    </tr>\n",
       "  </thead>\n",
       "  <tbody>\n",
       "    <tr>\n",
       "      <th>count</th>\n",
       "      <td>76</td>\n",
       "      <td>74</td>\n",
       "      <td>74</td>\n",
       "      <td>74</td>\n",
       "      <td>73</td>\n",
       "      <td>71</td>\n",
       "      <td>60</td>\n",
       "      <td>60</td>\n",
       "      <td>60</td>\n",
       "      <td>60</td>\n",
       "      <td>60</td>\n",
       "      <td>60</td>\n",
       "      <td>60</td>\n",
       "      <td>59</td>\n",
       "      <td>59</td>\n",
       "      <td>58</td>\n",
       "      <td>57</td>\n",
       "    </tr>\n",
       "  </tbody>\n",
       "</table>\n",
       "</div>"
      ],
      "text/plain": [
       "season  2013  2023  2012  2022  2011  2024  2018  2021  2020  2019  2016  \\\n",
       "count     76    74    74    74    73    71    60    60    60    60    60   \n",
       "\n",
       "season  2014  2010  2017  2015  2008  2009  \n",
       "count     60    60    59    59    58    57  "
      ]
     },
     "execution_count": 39,
     "metadata": {},
     "output_type": "execute_result"
    }
   ],
   "source": [
    "#Identifying Match Trends over the years\n",
    "matches['season'].value_counts().to_frame().T"
   ]
  },
  {
   "cell_type": "code",
   "execution_count": 41,
   "id": "f7be5b3f-77d6-4ad8-ae39-018c7f8b8f7c",
   "metadata": {},
   "outputs": [
    {
     "data": {
      "image/png": "[encoded data removed]",
      "text/plain": [
       "<Figure size 1000x600 with 1 Axes>"
      ]
     },
     "metadata": {},
     "output_type": "display_data"
    }
   ],
   "source": [
    "import matplotlib.pyplot as plt\n",
    "\n",
    "season_counts = matches['season'].value_counts().sort_index()\n",
    "\n",
    "# Ploting the trend as a line chart\n",
    "plt.figure(figsize=(10, 6))  \n",
    "plt.plot(season_counts.index, season_counts.values, marker='o', linestyle='-', color='blue')\n",
    "\n",
    "# Adding titles and labels\n",
    "plt.title('Trend of Total Matches Over Seasons', fontsize=16)\n",
    "plt.xlabel('Season', fontsize=12)\n",
    "plt.ylabel('Number of Matches', fontsize=12)\n",
    "\n",
    "# Annotating each data point with the value\n",
    "for i, value in enumerate(season_counts.values):\n",
    "    plt.text(season_counts.index[i], value, str(value), fontsize=10, ha='center', va='bottom')\n",
    "plt.xticks(rotation=45)  \n",
    "plt.grid(True)           \n",
    "plt.show()"
   ]
  },
  {
   "cell_type": "markdown",
   "id": "0a4a4c0c-c66c-4d19-9ed6-4546e4ac44ab",
   "metadata": {},
   "source": [
    "## Finding Match Statistics"
   ]
  },
  {
   "cell_type": "code",
   "execution_count": 47,
   "id": "5c1a2589-4278-46c3-8ad8-ccf8a8960cfa",
   "metadata": {},
   "outputs": [],
   "source": [
    "#total matches played\n",
    "total_matches= (matches['team1'].value_counts()+matches['team2'].value_counts()).rename_axis('Team').reset_index(name=\"Total_Match_Played\")\n",
    "# Count of wins for each team\n",
    "total_wins = matches['winner'].value_counts().rename_axis('Team').reset_index(name='Total_Wins')\n",
    "\n",
    "# Count of wins when chasing a target\n",
    "team_chasing = matches[matches['toss_decision'] == 'field']['winner'].value_counts().rename_axis('Team').reset_index(name='Chasing_Wins')\n",
    "\n",
    "# Count of wins when batting first\n",
    "team_batting_first = matches[matches['toss_decision'] == 'bat']['winner'].value_counts().rename_axis('Team').reset_index(name='Batting_First_Wins')\n",
    "\n",
    "# Merge all the DataFrames\n",
    "merged_df = total_matches.merge(total_wins,on='Team',how='outer') \\\n",
    "    .merge(team_chasing, on='Team', how='outer') \\\n",
    "    .merge(team_batting_first, on='Team', how='outer') \n",
    "    \n",
    "# Fill NaN values with 0\n",
    "merged_df= merged_df.fillna(0)\n",
    "#sorting by total match played\n",
    "merged_df.sort_values(by='Total_Match_Played', ascending=False, inplace=True)"
   ]
  },
  {
   "cell_type": "code",
   "execution_count": 49,
   "id": "0bdda2c7-0a02-413a-a5d3-e1730468d825",
   "metadata": {},
   "outputs": [
    {
     "data": {
      "text/html": [
       "<div>\n",
       "<style scoped>\n",
       "    .dataframe tbody tr th:only-of-type {\n",
       "        vertical-align: middle;\n",
       "    }\n",
       "\n",
       "    .dataframe tbody tr th {\n",
       "        vertical-align: top;\n",
       "    }\n",
       "\n",
       "    .dataframe thead th {\n",
       "        text-align: right;\n",
       "    }\n",
       "</style>\n",
       "<table border=\"1\" class=\"dataframe\">\n",
       "  <thead>\n",
       "    <tr style=\"text-align: right;\">\n",
       "      <th></th>\n",
       "      <th>Total_Match_Played</th>\n",
       "      <th>Total_Wins</th>\n",
       "      <th>Chasing_Wins</th>\n",
       "      <th>Batting_First_Wins</th>\n",
       "    </tr>\n",
       "    <tr>\n",
       "      <th>Team</th>\n",
       "      <th></th>\n",
       "      <th></th>\n",
       "      <th></th>\n",
       "      <th></th>\n",
       "    </tr>\n",
       "  </thead>\n",
       "  <tbody>\n",
       "    <tr>\n",
       "      <th>Mumbai Indians</th>\n",
       "      <td>261</td>\n",
       "      <td>144</td>\n",
       "      <td>90</td>\n",
       "      <td>54.0</td>\n",
       "    </tr>\n",
       "    <tr>\n",
       "      <th>Chennai Super Kings</th>\n",
       "      <td>238</td>\n",
       "      <td>138</td>\n",
       "      <td>75</td>\n",
       "      <td>63.0</td>\n",
       "    </tr>\n",
       "    <tr>\n",
       "      <th>Kolkata Knight Riders</th>\n",
       "      <td>251</td>\n",
       "      <td>131</td>\n",
       "      <td>81</td>\n",
       "      <td>50.0</td>\n",
       "    </tr>\n",
       "    <tr>\n",
       "      <th>Royal Challengers Bangalore</th>\n",
       "      <td>255</td>\n",
       "      <td>123</td>\n",
       "      <td>85</td>\n",
       "      <td>38.0</td>\n",
       "    </tr>\n",
       "    <tr>\n",
       "      <th>Sunrisers Hyderabad</th>\n",
       "      <td>257</td>\n",
       "      <td>117</td>\n",
       "      <td>73</td>\n",
       "      <td>44.0</td>\n",
       "    </tr>\n",
       "    <tr>\n",
       "      <th>Delhi Capitals</th>\n",
       "      <td>252</td>\n",
       "      <td>115</td>\n",
       "      <td>73</td>\n",
       "      <td>42.0</td>\n",
       "    </tr>\n",
       "    <tr>\n",
       "      <th>Kings XI Punjab</th>\n",
       "      <td>246</td>\n",
       "      <td>112</td>\n",
       "      <td>84</td>\n",
       "      <td>28.0</td>\n",
       "    </tr>\n",
       "    <tr>\n",
       "      <th>Rajasthan Royals</th>\n",
       "      <td>221</td>\n",
       "      <td>112</td>\n",
       "      <td>69</td>\n",
       "      <td>43.0</td>\n",
       "    </tr>\n",
       "    <tr>\n",
       "      <th>Gujarat Titans</th>\n",
       "      <td>75</td>\n",
       "      <td>41</td>\n",
       "      <td>30</td>\n",
       "      <td>11.0</td>\n",
       "    </tr>\n",
       "    <tr>\n",
       "      <th>Pune Warriors</th>\n",
       "      <td>76</td>\n",
       "      <td>27</td>\n",
       "      <td>16</td>\n",
       "      <td>11.0</td>\n",
       "    </tr>\n",
       "    <tr>\n",
       "      <th>Lucknow Super Giants</th>\n",
       "      <td>44</td>\n",
       "      <td>24</td>\n",
       "      <td>18</td>\n",
       "      <td>6.0</td>\n",
       "    </tr>\n",
       "    <tr>\n",
       "      <th>Kochi Tuskers Kerala</th>\n",
       "      <td>14</td>\n",
       "      <td>6</td>\n",
       "      <td>6</td>\n",
       "      <td>0.0</td>\n",
       "    </tr>\n",
       "  </tbody>\n",
       "</table>\n",
       "</div>"
      ],
      "text/plain": [
       "                             Total_Match_Played  Total_Wins  Chasing_Wins  \\\n",
       "Team                                                                        \n",
       "Mumbai Indians                              261         144            90   \n",
       "Chennai Super Kings                         238         138            75   \n",
       "Kolkata Knight Riders                       251         131            81   \n",
       "Royal Challengers Bangalore                 255         123            85   \n",
       "Sunrisers Hyderabad                         257         117            73   \n",
       "Delhi Capitals                              252         115            73   \n",
       "Kings XI Punjab                             246         112            84   \n",
       "Rajasthan Royals                            221         112            69   \n",
       "Gujarat Titans                               75          41            30   \n",
       "Pune Warriors                                76          27            16   \n",
       "Lucknow Super Giants                         44          24            18   \n",
       "Kochi Tuskers Kerala                         14           6             6   \n",
       "\n",
       "                             Batting_First_Wins  \n",
       "Team                                             \n",
       "Mumbai Indians                             54.0  \n",
       "Chennai Super Kings                        63.0  \n",
       "Kolkata Knight Riders                      50.0  \n",
       "Royal Challengers Bangalore                38.0  \n",
       "Sunrisers Hyderabad                        44.0  \n",
       "Delhi Capitals                             42.0  \n",
       "Kings XI Punjab                            28.0  \n",
       "Rajasthan Royals                           43.0  \n",
       "Gujarat Titans                             11.0  \n",
       "Pune Warriors                              11.0  \n",
       "Lucknow Super Giants                        6.0  \n",
       "Kochi Tuskers Kerala                        0.0  "
      ]
     },
     "execution_count": 49,
     "metadata": {},
     "output_type": "execute_result"
    }
   ],
   "source": [
    "# Display the final DataFrame\n",
    "merged_df.set_index('Team', drop=True).sort_values(by='Total_Wins', ascending=False)"
   ]
  },
  {
   "cell_type": "code",
   "execution_count": 51,
   "id": "a47c953b-1ffd-4338-9d9d-fe69b217b3dc",
   "metadata": {},
   "outputs": [],
   "source": [
    "# Importing feature encoding tools\n",
    "from sklearn.preprocessing import StandardScaler, OneHotEncoder"
   ]
  },
  {
   "cell_type": "code",
   "execution_count": 53,
   "id": "65b2680f-f862-4414-8ed4-efe45de9a2d3",
   "metadata": {},
   "outputs": [],
   "source": [
    "from sklearn.linear_model import LogisticRegression\n",
    "from sklearn.model_selection import train_test_split\n",
    "from sklearn.metrics import accuracy_score, classification_report"
   ]
  },
  {
   "cell_type": "code",
   "execution_count": null,
   "id": "c7b2600c-debe-4310-b9b2-bd70ae85f542",
   "metadata": {},
   "outputs": [],
   "source": []
  }
 ],
 "metadata": {
  "kernelspec": {
   "display_name": "Python 3 (ipykernel)",
   "language": "python",
   "name": "python3"
  },
  "language_info": {
   "codemirror_mode": {
    "name": "ipython",
    "version": 3
   },
   "file_extension": ".py",
   "mimetype": "text/x-python",
   "name": "python",
   "nbconvert_exporter": "python",
   "pygments_lexer": "ipython3",
   "version": "3.12.4"
  }
 },
 "nbformat": 4,
 "nbformat_minor": 5
}
